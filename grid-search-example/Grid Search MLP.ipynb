{
 "cells": [
  {
   "cell_type": "code",
   "execution_count": 1,
   "metadata": {
    "id": "G8dQnnTtlWNm"
   },
   "outputs": [],
   "source": [
    "import numpy as np\n",
    "from sklearn.datasets import load_iris\n",
    "from sklearn.model_selection import train_test_split\n",
    "from sklearn.preprocessing import OneHotEncoder, StandardScaler\n",
    "from itertools import product"
   ]
  },
  {
   "cell_type": "code",
   "execution_count": 2,
   "metadata": {
    "id": "ccl5iZJTlXaV"
   },
   "outputs": [],
   "source": [
    "data = load_iris()\n",
    "X, y = data.data, data.target"
   ]
  },
  {
   "cell_type": "code",
   "execution_count": 3,
   "metadata": {
    "id": "4FMAMbXblYbG"
   },
   "outputs": [],
   "source": [
    "scaler = StandardScaler()\n",
    "X = scaler.fit_transform(X)"
   ]
  },
  {
   "cell_type": "code",
   "execution_count": null,
   "metadata": {
    "id": "fhUIQw-Elalo"
   },
   "outputs": [],
   "source": [
    "X_train, X_test, y_train, y_test = train_test_split(X, y, test_size=0.3, random_state=42)"
   ]
  },
  {
   "cell_type": "code",
   "execution_count": 5,
   "metadata": {
    "id": "Y0bESwUXlcTp"
   },
   "outputs": [],
   "source": [
    "def sigmoid(x):\n",
    "    return 1 / (1 + np.exp(-x))\n",
    "\n",
    "def sigmoid_derivative(x):\n",
    "    return x * (1 - x)"
   ]
  },
  {
   "cell_type": "code",
   "execution_count": 6,
   "metadata": {
    "id": "VQfmo19Plehh"
   },
   "outputs": [],
   "source": [
    "class MLP:\n",
    "    def __init__(self, input_size, hidden_sizes, output_size, learning_rate):\n",
    "        self.learning_rate = learning_rate\n",
    "        self.weights = []\n",
    "        self.biases = []\n",
    "\n",
    "        layer_sizes = [input_size] + hidden_sizes + [output_size]\n",
    "        for i in range(len(layer_sizes) - 1):\n",
    "            self.weights.append(np.random.randn(layer_sizes[i], layer_sizes[i+1]) * 0.1)\n",
    "            self.biases.append(np.zeros((1, layer_sizes[i+1])))\n",
    "\n",
    "    def forward(self, X):\n",
    "        self.a = [X]\n",
    "        for i in range(len(self.weights) - 1):\n",
    "            z = np.dot(self.a[-1], self.weights[i]) + self.biases[i]\n",
    "            self.a.append(sigmoid(z))\n",
    "        z = np.dot(self.a[-1], self.weights[-1]) + self.biases[-1]\n",
    "        self.a.append(z)\n",
    "        return self.a[-1]\n",
    "\n",
    "    def backward(self, y_true):\n",
    "        deltas = [self.a[-1] - y_true.reshape(-1, 1)]\n",
    "        for i in reversed(range(len(self.weights) - 1)):\n",
    "            deltas.append(deltas[-1].dot(self.weights[i + 1].T) * sigmoid_derivative(self.a[i + 1]))\n",
    "        deltas.reverse()\n",
    "\n",
    "        for i in range(len(self.weights)):\n",
    "            self.weights[i] -= self.learning_rate * self.a[i].T.dot(deltas[i])\n",
    "            self.biases[i] -= self.learning_rate * np.mean(deltas[i], axis=0, keepdims=True)\n",
    "\n",
    "    def train(self, X, y, epochs=1000):\n",
    "        for epoch in range(epochs):\n",
    "            y_pred = self.forward(X)\n",
    "            loss = np.mean((y_pred - y.reshape(-1, 1))**2)\n",
    "            self.backward(y)\n",
    "\n",
    "    def predict(self, X):\n",
    "        y_pred = self.forward(X)\n",
    "        return np.round(y_pred).flatten().astype(int)"
   ]
  },
  {
   "cell_type": "code",
   "execution_count": 7,
   "metadata": {
    "id": "Ye_trfVTlhBJ"
   },
   "outputs": [],
   "source": [
    "def evaluate(model, X, y):\n",
    "    y_pred = model.predict(X)\n",
    "    accuracy = np.mean(y_pred == y)\n",
    "    return accuracy"
   ]
  },
  {
   "cell_type": "code",
   "execution_count": 8,
   "metadata": {
    "id": "aNHjoZQJliGd"
   },
   "outputs": [],
   "source": [
    "# Configuração do grid search\n",
    "camadas_e_neuronios = [[5], [10], [20], [5, 5],[20,20], [10, 10]]\n",
    "learning_rates = [0.1, 0.01, 0.001, 0.0001, 0.00001]\n",
    "epochs = 100\n",
    "best_accuracy = -1\n",
    "best_params = {}"
   ]
  },
  {
   "cell_type": "code",
   "execution_count": 9,
   "metadata": {
    "colab": {
     "base_uri": "https://localhost:8080/"
    },
    "id": "gsEcByNHlUf5",
    "outputId": "07ffaabc-4ff7-4fe2-f156-a81f9459c860"
   },
   "outputs": [
    {
     "name": "stdout",
     "output_type": "stream",
     "text": [
      "Treinando MLP com camadas ocultas: [5], taxa de aprendizado: 0.1\n",
      "Acurácia: 0.00\n",
      "Treinando MLP com camadas ocultas: [5], taxa de aprendizado: 0.01\n",
      "Acurácia: 97.78\n",
      "Treinando MLP com camadas ocultas: [5], taxa de aprendizado: 0.001\n",
      "Acurácia: 93.33\n",
      "Treinando MLP com camadas ocultas: [5], taxa de aprendizado: 0.0001\n",
      "Acurácia: 28.89\n",
      "Treinando MLP com camadas ocultas: [5], taxa de aprendizado: 1e-05\n",
      "Acurácia: 42.22\n",
      "Treinando MLP com camadas ocultas: [10], taxa de aprendizado: 0.1\n"
     ]
    },
    {
     "name": "stderr",
     "output_type": "stream",
     "text": [
      "C:\\Users\\roney\\AppData\\Local\\Temp\\ipykernel_13428\\3668515781.py:2: RuntimeWarning: overflow encountered in exp\n",
      "  return 1 / (1 + np.exp(-x))\n",
      "C:\\Users\\roney\\AppData\\Local\\Temp\\ipykernel_13428\\3551417472.py:39: RuntimeWarning: invalid value encountered in cast\n",
      "  return np.round(y_pred).flatten().astype(int)\n"
     ]
    },
    {
     "name": "stdout",
     "output_type": "stream",
     "text": [
      "Acurácia: 0.00\n",
      "Treinando MLP com camadas ocultas: [10], taxa de aprendizado: 0.01\n",
      "Acurácia: 0.00\n",
      "Treinando MLP com camadas ocultas: [10], taxa de aprendizado: 0.001\n",
      "Acurácia: 97.78\n",
      "Treinando MLP com camadas ocultas: [10], taxa de aprendizado: 0.0001\n",
      "Acurácia: 28.89\n",
      "Treinando MLP com camadas ocultas: [10], taxa de aprendizado: 1e-05\n",
      "Acurácia: 42.22\n",
      "Treinando MLP com camadas ocultas: [20], taxa de aprendizado: 0.1\n",
      "Acurácia: 0.00\n",
      "Treinando MLP com camadas ocultas: [20], taxa de aprendizado: 0.01\n",
      "Acurácia: 0.00\n",
      "Treinando MLP com camadas ocultas: [20], taxa de aprendizado: 0.001\n",
      "Acurácia: 93.33\n",
      "Treinando MLP com camadas ocultas: [20], taxa de aprendizado: 0.0001\n",
      "Acurácia: 28.89\n",
      "Treinando MLP com camadas ocultas: [20], taxa de aprendizado: 1e-05\n",
      "Acurácia: 42.22\n",
      "Treinando MLP com camadas ocultas: [5, 5], taxa de aprendizado: 0.1\n"
     ]
    },
    {
     "name": "stderr",
     "output_type": "stream",
     "text": [
      "C:\\Users\\roney\\AppData\\Local\\Temp\\ipykernel_13428\\3551417472.py:34: RuntimeWarning: overflow encountered in square\n",
      "  loss = np.mean((y_pred - y.reshape(-1, 1))**2)\n",
      "C:\\Users\\roney\\AppData\\Local\\Temp\\ipykernel_13428\\3551417472.py:24: RuntimeWarning: invalid value encountered in multiply\n",
      "  deltas.append(deltas[-1].dot(self.weights[i + 1].T) * sigmoid_derivative(self.a[i + 1]))\n"
     ]
    },
    {
     "name": "stdout",
     "output_type": "stream",
     "text": [
      "Acurácia: 28.89\n",
      "Treinando MLP com camadas ocultas: [5, 5], taxa de aprendizado: 0.01\n",
      "Acurácia: 95.56\n",
      "Treinando MLP com camadas ocultas: [5, 5], taxa de aprendizado: 0.001\n",
      "Acurácia: 28.89\n",
      "Treinando MLP com camadas ocultas: [5, 5], taxa de aprendizado: 0.0001\n",
      "Acurácia: 28.89\n",
      "Treinando MLP com camadas ocultas: [5, 5], taxa de aprendizado: 1e-05\n",
      "Acurácia: 42.22\n",
      "Treinando MLP com camadas ocultas: [20, 20], taxa de aprendizado: 0.1\n",
      "Acurácia: 28.89\n",
      "Treinando MLP com camadas ocultas: [20, 20], taxa de aprendizado: 0.01\n",
      "Acurácia: 71.11\n",
      "Treinando MLP com camadas ocultas: [20, 20], taxa de aprendizado: 0.001\n",
      "Acurácia: 28.89\n",
      "Treinando MLP com camadas ocultas: [20, 20], taxa de aprendizado: 0.0001\n",
      "Acurácia: 28.89\n",
      "Treinando MLP com camadas ocultas: [20, 20], taxa de aprendizado: 1e-05\n",
      "Acurácia: 42.22\n",
      "Treinando MLP com camadas ocultas: [10, 10], taxa de aprendizado: 0.1\n",
      "Acurácia: 28.89\n",
      "Treinando MLP com camadas ocultas: [10, 10], taxa de aprendizado: 0.01\n",
      "Acurácia: 95.56\n",
      "Treinando MLP com camadas ocultas: [10, 10], taxa de aprendizado: 0.001\n",
      "Acurácia: 28.89\n",
      "Treinando MLP com camadas ocultas: [10, 10], taxa de aprendizado: 0.0001\n",
      "Acurácia: 28.89\n",
      "Treinando MLP com camadas ocultas: [10, 10], taxa de aprendizado: 1e-05\n",
      "Acurácia: 42.22\n"
     ]
    }
   ],
   "source": [
    "# Realizar grid search\n",
    "for camadas, lr in product(camadas_e_neuronios, learning_rates):\n",
    "    print(f\"Treinando MLP com camadas ocultas: {camadas}, taxa de aprendizado: {lr}\")\n",
    "    mlp = MLP(input_size=4, hidden_sizes=camadas, output_size=1, learning_rate=lr)\n",
    "    mlp.train(X_train, y_train, epochs=epochs)\n",
    "    accuracy = evaluate(mlp, X_test, y_test)\n",
    "    print(f\"Acurácia: {accuracy*100:.2f}\")\n",
    "\n",
    "    if accuracy > best_accuracy:\n",
    "        best_accuracy = accuracy\n",
    "        best_params = {'camadas e neuronios': camadas, 'taxa de aprendizado': lr}"
   ]
  },
  {
   "cell_type": "code",
   "execution_count": 10,
   "metadata": {
    "colab": {
     "base_uri": "https://localhost:8080/"
    },
    "id": "tDTcmecelkkh",
    "outputId": "a8418ba6-133a-4cb7-8517-26c384798766"
   },
   "outputs": [
    {
     "name": "stdout",
     "output_type": "stream",
     "text": [
      "Melhores parâmetros: {'camadas e neuronios': [5], 'taxa de aprendizado': 0.01}, com acurácia de 97.78\n"
     ]
    }
   ],
   "source": [
    "print(f\"Melhores parâmetros: {best_params}, com acurácia de {best_accuracy*100:.2f}\")"
   ]
  }
 ],
 "metadata": {
  "colab": {
   "provenance": []
  },
  "kernelspec": {
   "display_name": "Python 3",
   "name": "python3"
  },
  "language_info": {
   "codemirror_mode": {
    "name": "ipython",
    "version": 3
   },
   "file_extension": ".py",
   "mimetype": "text/x-python",
   "name": "python",
   "nbconvert_exporter": "python",
   "pygments_lexer": "ipython3",
   "version": "3.9.13"
  }
 },
 "nbformat": 4,
 "nbformat_minor": 0
}
